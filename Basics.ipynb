{
 "cells": [
  {
   "cell_type": "markdown",
   "id": "cc833295",
   "metadata": {},
   "source": [
    "# Print Strings"
   ]
  },
  {
   "cell_type": "code",
   "execution_count": 1,
   "id": "7c3c5a47",
   "metadata": {},
   "outputs": [
    {
     "name": "stdout",
     "output_type": "stream",
     "text": [
      "Hello\n"
     ]
    }
   ],
   "source": [
    "print(\"Hello\")"
   ]
  },
  {
   "cell_type": "code",
   "execution_count": 2,
   "id": "cc62ade4",
   "metadata": {},
   "outputs": [
    {
     "name": "stdout",
     "output_type": "stream",
     "text": [
      "   /|\n",
      "  / |\n",
      " /  |\n",
      "/___|\n"
     ]
    }
   ],
   "source": [
    "print(\"   /|\")\n",
    "print(\"  / |\")\n",
    "print(\" /  |\")\n",
    "print(\"/___|\")"
   ]
  },
  {
   "cell_type": "code",
   "execution_count": 11,
   "id": "c9148160",
   "metadata": {},
   "outputs": [
    {
     "name": "stdout",
     "output_type": "stream",
     "text": [
      "My name is Rajan\n",
      "I am 35 years old\n",
      "I like my name Rajan a lot\n",
      "But I don't like being 35\n",
      "\n",
      "\n",
      "My name isRajan,\n",
      "I am35years old\n",
      "I like my nameRajana lot\n",
      "But I don't like beingRajan\n",
      "\n",
      "\n",
      "My name is Rajan ,\n",
      "I am 35 years old\n",
      "I like my name Rajan a lot\n",
      "But I don't like being 35\n"
     ]
    }
   ],
   "source": [
    "print(\"My name is Rajan\")\n",
    "print(\"I am 35 years old\")\n",
    "print(\"I like my name Rajan a lot\")\n",
    "print(\"But I don't like being 35\")\n",
    "print(\"\\n\")\n",
    "# Updating variables would be a hectic task\n",
    "\n",
    "character_name = \"Rajan\"\n",
    "character_age = \"35\"\n",
    "\n",
    "# With + no spaces are added\n",
    "print(\"My name is\" + character_name + \",\")\n",
    "print(\"I am\"+ character_age + \"years old\")\n",
    "print(\"I like my name\" + character_name + \"a lot\")\n",
    "print(\"But I don't like being\" + character_name)\n",
    "print(\"\\n\")\n",
    "# With commas a space is added\n",
    "print(\"My name is\" , character_name, \",\")\n",
    "print(\"I am\", character_age, \"years old\")\n",
    "print(\"I like my name\", character_name, \"a lot\")\n",
    "print(\"But I don't like being\", character_age)\n",
    "\n",
    "character_name = \"Rattan\" # String variable\n",
    "character_age = 36 # Integer/Float variable\n",
    "is_female = False # Boolean variable"
   ]
  },
  {
   "cell_type": "code",
   "execution_count": 12,
   "id": "9cf17959",
   "metadata": {},
   "outputs": [
    {
     "name": "stdout",
     "output_type": "stream",
     "text": [
      "IIT Madras\n",
      "IIT\n",
      "Madras\n",
      "IIT\"Madras\n",
      "IIT\\Madras\n"
     ]
    }
   ],
   "source": [
    "print(\"IIT Madras\")\n",
    "print(\"IIT\\nMadras\") # Newline operator\n",
    "print(\"IIT\\\"Madras\") # Using the backslash\n",
    "print(\"IIT\\Madras\")"
   ]
  },
  {
   "cell_type": "code",
   "execution_count": 13,
   "id": "ebfc6efc",
   "metadata": {},
   "outputs": [
    {
     "name": "stdout",
     "output_type": "stream",
     "text": [
      "IIT Madras\n"
     ]
    }
   ],
   "source": [
    "phrase = \"IIT Madras\" \n",
    "print(phrase) # Printing a string"
   ]
  },
  {
   "cell_type": "code",
   "execution_count": 15,
   "id": "ea2615c3",
   "metadata": {},
   "outputs": [
    {
     "name": "stdout",
     "output_type": "stream",
     "text": [
      "iit madras\n",
      "IIT MADRAS\n",
      "False\n",
      "True\n"
     ]
    }
   ],
   "source": [
    "print(phrase.lower()) # Converts all to lowercase\n",
    "print(phrase.upper()) # Converts all to uppercase\n",
    "print(phrase.isupper()) # Checks if everything is uppercase\n",
    "print(phrase.upper().isupper()) # Converts, then checks"
   ]
  },
  {
   "cell_type": "code",
   "execution_count": 16,
   "id": "5acb9cc9",
   "metadata": {},
   "outputs": [
    {
     "name": "stdout",
     "output_type": "stream",
     "text": [
      "10\n"
     ]
    }
   ],
   "source": [
    "print(len(phrase)) # Prints length of the string"
   ]
  },
  {
   "cell_type": "code",
   "execution_count": 27,
   "id": "31f0b514",
   "metadata": {},
   "outputs": [
    {
     "name": "stdout",
     "output_type": "stream",
     "text": [
      "I\n",
      " \n",
      "M\n"
     ]
    }
   ],
   "source": [
    "print(phrase[0]) # Prints character at given index\n",
    "print(phrase[3])# Space also has index\n",
    "print(phrase[4])\n",
    "# print(phrase[10])# this will throw an error because given string only has 0 to 9 index"
   ]
  },
  {
   "cell_type": "code",
   "execution_count": 31,
   "id": "044a2598",
   "metadata": {},
   "outputs": [
    {
     "name": "stdout",
     "output_type": "stream",
     "text": [
      "4\n",
      "4\n"
     ]
    }
   ],
   "source": [
    "print(phrase.index(\"M\")) # Prints inde of given character\n",
    "print(phrase.index(\"Mad\"))\n",
    "# print(phrase.index(\"Sad\")) # Error"
   ]
  },
  {
   "cell_type": "code",
   "execution_count": 28,
   "id": "e8b8e95e",
   "metadata": {},
   "outputs": [],
   "source": [
    "# print(phrase.index(\"z\")) # Error"
   ]
  },
  {
   "cell_type": "code",
   "execution_count": 33,
   "id": "9016d32f",
   "metadata": {},
   "outputs": [
    {
     "name": "stdout",
     "output_type": "stream",
     "text": [
      "IIT Bombay\n"
     ]
    }
   ],
   "source": [
    "print(phrase.replace(\"Madras\", \"Bombay\")) # Replaces part of a string"
   ]
  },
  {
   "cell_type": "markdown",
   "id": "9d7805eb",
   "metadata": {},
   "source": [
    "# Print Numbers"
   ]
  },
  {
   "cell_type": "code",
   "execution_count": 35,
   "id": "ea983618",
   "metadata": {},
   "outputs": [
    {
     "name": "stdout",
     "output_type": "stream",
     "text": [
      "2\n",
      "2.89\n",
      "-6.88\n"
     ]
    }
   ],
   "source": [
    "print(2)\n",
    "print(2.89)\n",
    "print(-6.88)"
   ]
  },
  {
   "cell_type": "code",
   "execution_count": 36,
   "id": "41c8ab7e",
   "metadata": {},
   "outputs": [
    {
     "name": "stdout",
     "output_type": "stream",
     "text": [
      "7.5\n"
     ]
    }
   ],
   "source": [
    "print(3 + 4.5) # Addition operator"
   ]
  },
  {
   "cell_type": "code",
   "execution_count": 37,
   "id": "8bf7faf5",
   "metadata": {},
   "outputs": [
    {
     "name": "stdout",
     "output_type": "stream",
     "text": [
      "17\n",
      "27\n"
     ]
    }
   ],
   "source": [
    "print(3 * 4 + 5) # Preserves order of operation\n",
    "print(3 * (4 + 5))"
   ]
  },
  {
   "cell_type": "code",
   "execution_count": 38,
   "id": "ccf52d01",
   "metadata": {},
   "outputs": [
    {
     "name": "stdout",
     "output_type": "stream",
     "text": [
      "1\n"
     ]
    }
   ],
   "source": [
    "print(10 % 3) # Remainder operator"
   ]
  },
  {
   "cell_type": "code",
   "execution_count": 46,
   "id": "26151a65",
   "metadata": {},
   "outputs": [
    {
     "name": "stdout",
     "output_type": "stream",
     "text": [
      "5\n",
      "-5\n",
      "5 is my fav number\n"
     ]
    }
   ],
   "source": [
    "num = 5\n",
    "print(num)\n",
    "print(-num)\n",
    "print(str(num) + \" is my fav number\") # Printing with strings\n",
    "# print(num + \" is my fav number\") # Throws error bcoz cant concatenate a str and int"
   ]
  },
  {
   "cell_type": "code",
   "execution_count": 43,
   "id": "d37805dc",
   "metadata": {},
   "outputs": [
    {
     "name": "stdout",
     "output_type": "stream",
     "text": [
      "5\n",
      "9\n",
      "3\n",
      "2\n",
      "3\n",
      "4\n"
     ]
    }
   ],
   "source": [
    "print(abs(num)) # Prints absolute value\n",
    "print(pow(3, 2)) # Raises first number to the power of the second number \n",
    "print(max(3, 2)) # Prints out maximum of the two numbers\n",
    "print(min(3, 2))\n",
    "print(round(3.2)) # Rounds off the number\n",
    "print(round(3.7))"
   ]
  },
  {
   "cell_type": "code",
   "execution_count": 47,
   "id": "f450d4c4",
   "metadata": {},
   "outputs": [],
   "source": [
    "from math import * # To import special functions"
   ]
  },
  {
   "cell_type": "code",
   "execution_count": 48,
   "id": "c02dd961",
   "metadata": {},
   "outputs": [
    {
     "name": "stdout",
     "output_type": "stream",
     "text": [
      "7\n",
      "8\n",
      "6.0\n"
     ]
    }
   ],
   "source": [
    "print(floor(7.8)) # Prints floor integer\n",
    "print(ceil(7.8)) # Prints ceiling integer\n",
    "print(sqrt(36)) # Prints square root of the nymber"
   ]
  },
  {
   "cell_type": "markdown",
   "id": "9038a069",
   "metadata": {},
   "source": [
    "# Inputs"
   ]
  },
  {
   "cell_type": "code",
   "execution_count": 50,
   "id": "3480fdfb",
   "metadata": {},
   "outputs": [
    {
     "name": "stdout",
     "output_type": "stream",
     "text": [
      "Enter your name: Rajan\n",
      "Enter your age: 35\n",
      "Hello Rajan! You are 35\n"
     ]
    }
   ],
   "source": [
    "name = input(\"Enter your name: \")\n",
    "age = input(\"Enter your age: \")\n",
    "print(\"Hello \" + name + \"! You are \" + age)"
   ]
  },
  {
   "cell_type": "markdown",
   "id": "aec91cd9",
   "metadata": {},
   "source": [
    "# Activity 1 - Building a Basic Calculator"
   ]
  },
  {
   "cell_type": "code",
   "execution_count": 52,
   "id": "8df7ae32",
   "metadata": {},
   "outputs": [
    {
     "name": "stdout",
     "output_type": "stream",
     "text": [
      "Enter a number: 3\n",
      "Enter another number: 4\n",
      "7\n",
      "7.0\n"
     ]
    }
   ],
   "source": [
    "num1 = input(\"Enter a number: \")\n",
    "num2 = input(\"Enter another number: \")\n",
    "\n",
    "# result = num1 + num2 # Error\n",
    "# print(result)\n",
    "\n",
    "result_int = int(num1) + int(num2)\n",
    "result_float = float(num1) + float(num2)\n",
    "print(result_int)\n",
    "print(result_float)"
   ]
  },
  {
   "cell_type": "markdown",
   "id": "f9638e50",
   "metadata": {},
   "source": [
    "# Activity 2 - Creating a Mad Libs Game"
   ]
  },
  {
   "cell_type": "code",
   "execution_count": 57,
   "id": "65cf8752",
   "metadata": {},
   "outputs": [
    {
     "name": "stdout",
     "output_type": "stream",
     "text": [
      "Roses are red\n",
      "Violets are blue\n",
      "I love you\n",
      "\n",
      "Enter a colour: chonk\n",
      "Enter a plural noun: plonk\n",
      "Enter a sportsman: badoinkadonk\n",
      "\n",
      "Roses are chonk\n",
      "plonk are blue\n",
      "I love badoinkadonk\n",
      "\n",
      "Roses are chonk\n",
      "plonk are blue\n",
      "I love badoinkadonk\n"
     ]
    }
   ],
   "source": [
    "print(\"Roses are red\")\n",
    "print(\"Violets are blue\")\n",
    "print(\"I love you\")\n",
    "print()\n",
    "\n",
    "colour = input(\"Enter a colour: \")\n",
    "plural_noun = input(\"Enter a plural noun: \")\n",
    "sportsman = input(\"Enter a sportsman: \")\n",
    "print()\n",
    "\n",
    "print(\"Roses are {}\".format(colour)) # Pseudocode\n",
    "print(\"{} are blue\".format(plural_noun))\n",
    "print(\"I love {}\".format(sportsman))\n",
    "print()\n",
    "\n",
    "print(\"Roses are \" + colour)\n",
    "print(plural_noun + \" are blue\")\n",
    "print(\"I love \" + sportsman)"
   ]
  },
  {
   "cell_type": "markdown",
   "id": "946efbd9",
   "metadata": {},
   "source": [
    "# Lists"
   ]
  },
  {
   "cell_type": "code",
   "execution_count": 58,
   "id": "01cb5243",
   "metadata": {},
   "outputs": [
    {
     "name": "stdout",
     "output_type": "stream",
     "text": [
      "['Sakshi', 'Rashi', 'Harshit', 'Shruti', 'Aditya']\n",
      "Rashi\n",
      "Aditya\n",
      "['Rashi', 'Harshit']\n"
     ]
    }
   ],
   "source": [
    "friends = [\"Sakshi\", \"Rashi\", \"Harshit\", \"Shruti\", \"Aditya\"]\n",
    "friends_1 = [\"Sakshi\", 2, False]\n",
    "\n",
    "print(friends)\n",
    "print(friends[1]) # Prints the second element\n",
    "print(friends[-1]) # Prints the last element\n",
    "print(friends[1:3]) # Prints the second to third element"
   ]
  },
  {
   "cell_type": "markdown",
   "id": "e26c72c1",
   "metadata": {},
   "source": [
    "# List Functions"
   ]
  },
  {
   "cell_type": "code",
   "execution_count": 82,
   "id": "4e7eeaad",
   "metadata": {},
   "outputs": [
    {
     "name": "stdout",
     "output_type": "stream",
     "text": [
      "['Sakshi', 'Rashi', 'Harshit', 'Shruti', 'Aditya']\n"
     ]
    }
   ],
   "source": [
    "num = [11, 23, 11, 23, 77, 89, 8]\n",
    "friends = [\"Sakshi\", \"Rashi\", \"Harshit\", \"Shruti\", \"Aditya\"]\n",
    "\n",
    "print(friends) # Prints the list\n",
    "\n",
    "#friends.extend(num) # Appends given list at the end \n",
    "#print(friends) # Prints the extended list\n",
    "\n",
    "#friends.extend(\"Parth\") # Appends given element at the end\n",
    "#print(friends) \n",
    "\n",
    "#friends.insert(1, \"Divya\") # Adds given element at given index\n",
    "#print(friends)\n",
    "\n",
    "#friends.remove(\"Rashi\") # Removes given element from the list\n",
    "#print(friends)\n",
    "\n",
    "#friends.clear() # Empties the list\n",
    "#print(friends)\n",
    "\n",
    "#friends.pop() # Removes last element\n",
    "#print(friends)\n",
    "\n",
    "#print(friends.index(\"Harshit\")) # Prints index of element\n",
    "#print(friends.count(\"Shruti\")) # Prints number of occurances\n",
    "\n",
    "#friends.sort() # Sorts the list\n",
    "#print(friends)\n",
    "\n",
    "#print(num)\n",
    "#num.reverse() # Reverses the list\n",
    "#print(num)\n",
    "\n",
    "#new_friends = friends.copy() # Copies the list\n",
    "#new_friends.reverse()\n",
    "#print(new_friends)"
   ]
  },
  {
   "cell_type": "markdown",
   "id": "74351038",
   "metadata": {},
   "source": [
    "# Tuples"
   ]
  },
  {
   "cell_type": "code",
   "execution_count": 83,
   "id": "5ef30083",
   "metadata": {},
   "outputs": [
    {
     "name": "stdout",
     "output_type": "stream",
     "text": [
      "3\n"
     ]
    }
   ],
   "source": [
    "coordinates = (2, 3) # Immutable (unchanging over time or unable to be changed)\n",
    "print(coordinates[1]) # Print an item with index  \n",
    "\n",
    "coord = [(2, 3), (3, 4), (5, 7)] # A list of tuples\n",
    "# Lists are mutable, tuples aren't"
   ]
  },
  {
   "cell_type": "markdown",
   "id": "f41629ec",
   "metadata": {},
   "source": [
    "# Functions"
   ]
  },
  {
   "cell_type": "code",
   "execution_count": 84,
   "id": "2a9b4bc0",
   "metadata": {},
   "outputs": [
    {
     "name": "stdout",
     "output_type": "stream",
     "text": [
      "Hello everyone\n",
      "Hello Parth\n"
     ]
    }
   ],
   "source": [
    "def say_hello(): # Defining a function\n",
    "\tprint(\"Hello everyone\")\n",
    "\n",
    "say_hello() # Calling a function\n",
    "\n",
    "def say_hi(name): # Taking a parameter\n",
    "\tprint(\"Hello \"+ name)\n",
    "\n",
    "say_hi(\"Parth\")"
   ]
  },
  {
   "cell_type": "markdown",
   "id": "44307996",
   "metadata": {},
   "source": [
    "# Return Statement"
   ]
  },
  {
   "cell_type": "code",
   "execution_count": 85,
   "id": "c6896e98",
   "metadata": {},
   "outputs": [
    {
     "name": "stdout",
     "output_type": "stream",
     "text": [
      "27\n",
      "64\n"
     ]
    }
   ],
   "source": [
    "def cube(num):\n",
    "\treturn (num**3) \n",
    "\t# No code can be put after the return statement\n",
    "\n",
    "print(cube(3))\n",
    "\n",
    "result = cube(4)\n",
    "print(result)"
   ]
  },
  {
   "cell_type": "markdown",
   "id": "fe7384f1",
   "metadata": {},
   "source": [
    "# If Statements"
   ]
  },
  {
   "cell_type": "code",
   "execution_count": 87,
   "id": "1f93ce55",
   "metadata": {},
   "outputs": [
    {
     "name": "stdout",
     "output_type": "stream",
     "text": [
      "Hey man!\n",
      "Hello everyone\n",
      "Hello everyone\n"
     ]
    }
   ],
   "source": [
    "is_male = True\n",
    "\n",
    "if is_male:\n",
    "\tprint(\"Hey man!\")\n",
    "else:\n",
    "\tprint(\"Hello lady!\")\n",
    "\n",
    "is_tall = False\n",
    "is_male = True\n",
    "\n",
    "if is_male or is_tall:\n",
    "\tsay_hello()\n",
    "if is_male and is_tall:\n",
    "\tsay_hello()\n",
    "\n",
    "elif is_male and not (is_tall):\n",
    "\tsay_hello()"
   ]
  },
  {
   "cell_type": "markdown",
   "id": "89a77d94",
   "metadata": {},
   "source": [
    "# If statements and Comparisons"
   ]
  },
  {
   "cell_type": "code",
   "execution_count": 88,
   "id": "f3b6b60c",
   "metadata": {},
   "outputs": [
    {
     "name": "stdout",
     "output_type": "stream",
     "text": [
      "300\n"
     ]
    },
    {
     "data": {
      "text/plain": [
       "True"
      ]
     },
     "execution_count": 88,
     "metadata": {},
     "output_type": "execute_result"
    }
   ],
   "source": [
    "def max_num(num1, num2, num3):\n",
    "\tif num1 >= num2 and num1 >= num3:\n",
    "\t\treturn num1\n",
    "\telif num2 >= num1 and num2 >= num3:\n",
    "\t\treturn num2\n",
    "\telse:\n",
    "\t\treturn num3\n",
    "\n",
    "print(max_num(300,40,5))\n",
    "\n",
    "num1 >= num2 # Greater than or equal to\n",
    "num1 <= num2 # Lesser than or equal to\n",
    "num1 == num2 # Equal to\n",
    "num1 > num2 # Greater than\n",
    "num1 < num2 # Lesser than"
   ]
  },
  {
   "cell_type": "markdown",
   "id": "ded7d0c2",
   "metadata": {},
   "source": [
    "# Activity 3 : Building a Better Calculator"
   ]
  },
  {
   "cell_type": "code",
   "execution_count": 91,
   "id": "11e42952",
   "metadata": {},
   "outputs": [
    {
     "name": "stdout",
     "output_type": "stream",
     "text": [
      "Enter first number: 12.34\n",
      "Enter operator: *\n",
      "Enter second number: 43.21\n",
      "533.2114\n"
     ]
    }
   ],
   "source": [
    "num1 = float(input(\"Enter first number: \"))\n",
    "op = input(\"Enter operator: \")\n",
    "num2 = float(input(\"Enter second number: \"))\n",
    "\n",
    "if op == \"+\":\n",
    "\tprint(num1 + num2)\n",
    "elif op == \"-\":\n",
    "\tprint(num1 - num2)\n",
    "elif op == \"*\":\n",
    "\tprint(num1 * num2)\n",
    "elif op == \"/\":\n",
    "\tprint(num1 / num2)\n",
    "else:\n",
    "\tprint(\"Invalid operator\")"
   ]
  },
  {
   "cell_type": "markdown",
   "id": "413bfa54",
   "metadata": {},
   "source": [
    "# Dictionaries"
   ]
  },
  {
   "cell_type": "code",
   "execution_count": 92,
   "id": "6b20fb34",
   "metadata": {},
   "outputs": [
    {
     "name": "stdout",
     "output_type": "stream",
     "text": [
      "March\n",
      "None\n",
      "Not a valid key\n"
     ]
    }
   ],
   "source": [
    "months = {\n",
    "\t\"Jan\": \"January\",\n",
    "\t\"Feb\": \"February\",\n",
    "\t\"Mar\": \"March\",\n",
    "}\n",
    "\n",
    "print(months[\"Mar\"])\n",
    "print(months.get(\"Dec\"))\n",
    "\n",
    "print(months.get(\"Fun\", \"Not a valid key\")) # We can give a default value using .get()"
   ]
  },
  {
   "cell_type": "markdown",
   "id": "0333720f",
   "metadata": {},
   "source": [
    "# While Loop"
   ]
  },
  {
   "cell_type": "code",
   "execution_count": 102,
   "id": "38f9976e",
   "metadata": {},
   "outputs": [
    {
     "name": "stdout",
     "output_type": "stream",
     "text": [
      "Enter the count: 5\n",
      "1\n",
      "2\n",
      "3\n",
      "4\n",
      "5\n",
      "Done\n"
     ]
    }
   ],
   "source": [
    "i = 1\n",
    "n = int(input(\"Enter the count: \"))\n",
    "while i <= n: #condition\n",
    "\tprint(i)\n",
    "\ti = i + 1 # i += 1\n",
    "print(\"Done\")"
   ]
  },
  {
   "cell_type": "markdown",
   "id": "3733dd60",
   "metadata": {},
   "source": [
    "# Activity 4 : Building a Guessing Game"
   ]
  },
  {
   "cell_type": "code",
   "execution_count": 104,
   "id": "690b3794",
   "metadata": {},
   "outputs": [
    {
     "name": "stdout",
     "output_type": "stream",
     "text": [
      "Enter guess: Gandu\n",
      "Enter guess: pandu\n",
      "Enter guess: panda\n",
      "You win\n"
     ]
    }
   ],
   "source": [
    "secret_word = \"panda\"\n",
    "guess = \"\"\n",
    "guess_count = 0\n",
    "guess_limit = 3\n",
    "out_of_guesses = False\n",
    "\n",
    "while guess != secret_word and not(out_of_guesses):\n",
    "\tif guess_count < guess_limit:\n",
    "\t\tguess = input(\"Enter guess: \")\n",
    "\t\tguess_count += 1\n",
    "\telse:\n",
    "\t\tout_of_guesses = True\n",
    "\n",
    "if out_of_guesses:\n",
    "\tprint(\"You lose\")\n",
    "else:\n",
    "\tprint(\"You win\")"
   ]
  },
  {
   "cell_type": "markdown",
   "id": "fbfc2b17",
   "metadata": {},
   "source": [
    "# For Loops"
   ]
  },
  {
   "cell_type": "code",
   "execution_count": 107,
   "id": "85d4702f",
   "metadata": {},
   "outputs": [
    {
     "name": "stdout",
     "output_type": "stream",
     "text": [
      "W\n",
      "o\n",
      "m\n",
      "e\n",
      "n\n",
      " \n",
      "i\n",
      "n\n",
      " \n",
      "B\n",
      "i\n",
      "g\n",
      " \n",
      "D\n",
      "a\n",
      "t\n",
      "a\n",
      "Divya\n",
      "Mohan\n",
      "Areen\n",
      "0\n",
      "1\n",
      "2\n",
      "3\n",
      "4\n",
      "5\n",
      "6\n",
      "7\n",
      "8\n",
      "9\n",
      "3\n",
      "4\n",
      "5\n",
      "6\n",
      "7\n",
      "8\n",
      "9\n",
      "Divya\n",
      "Mohan\n",
      "Areen\n",
      "First\n",
      "Not first\n",
      "Not first\n",
      "Not first\n",
      "Not first\n"
     ]
    }
   ],
   "source": [
    "for letter in \"Women in Big Data\":\n",
    "\tprint(letter)\n",
    "\n",
    "friends = [\"Divya\", \"Mohan\", \"Areen\"]\n",
    "for friend in friends:\n",
    "\tprint(friend)\n",
    "\n",
    "for index in range(10):\n",
    "\tprint(index)\n",
    "\n",
    "for index in range(3, 10):\n",
    "\tprint(index)\n",
    "\n",
    "for index in range(len(friends)):\n",
    "\tprint(friends[index])\n",
    "\n",
    "for index in range(5):\n",
    "\tif index == 0:\n",
    "\t\tprint(\"First\")\n",
    "\telse:\n",
    "\t\tprint(\"Not first\")"
   ]
  },
  {
   "cell_type": "markdown",
   "id": "5948336e",
   "metadata": {},
   "source": [
    "# Ex:- Exponent Function"
   ]
  },
  {
   "cell_type": "code",
   "execution_count": 112,
   "id": "5f783e33",
   "metadata": {},
   "outputs": [
    {
     "name": "stdout",
     "output_type": "stream",
     "text": [
      "81\n"
     ]
    }
   ],
   "source": [
    "def raise_to_power(base_num, pow_num):\n",
    "    result = 1\n",
    "    for index in range(pow_num):\n",
    "        result = base_num ** pow_num\n",
    "    return result\n",
    "\n",
    "print(raise_to_power(3, 4))"
   ]
  },
  {
   "cell_type": "markdown",
   "id": "8423af71",
   "metadata": {},
   "source": [
    "# 2D Lists and Nested Loops"
   ]
  },
  {
   "cell_type": "code",
   "execution_count": 116,
   "id": "bfc325aa",
   "metadata": {},
   "outputs": [
    {
     "name": "stdout",
     "output_type": "stream",
     "text": [
      "1\n",
      "[1, 2, 3]\n",
      "[4, 5, 6]\n",
      "[7, 8, 9]\n",
      "[0]\n",
      "1\t2\t3\t\n",
      "4\t5\t6\t\n",
      "7\t8\t9\t\n",
      "0\t\n"
     ]
    }
   ],
   "source": [
    "number_grid = [\n",
    "\t[1, 2, 3],\n",
    "\t[4, 5, 6],\n",
    "\t[7, 8, 9],\n",
    "\t[0]\t\n",
    "]\n",
    "\n",
    "print(number_grid[0][0])\n",
    "\n",
    "for row in number_grid:\n",
    "    print(row)\n",
    "\n",
    "for row in number_grid:\n",
    "    for col in row:\n",
    "        print(col, end = \"\\t\")\n",
    "    print()"
   ]
  },
  {
   "cell_type": "markdown",
   "id": "7a48252e",
   "metadata": {},
   "source": [
    "# Activity 5 : Building a Translator"
   ]
  },
  {
   "cell_type": "code",
   "execution_count": 3,
   "id": "7b1c2a80",
   "metadata": {},
   "outputs": [
    {
     "name": "stdout",
     "output_type": "stream",
     "text": [
      "Enter a sentence: My name is Rajan\n",
      "My npmp ps Rpjpn\n"
     ]
    },
    {
     "data": {
      "text/plain": [
       "'\\nfor letter in sentence:\\n\\t\\tif letter.lower in \"aeiou\":\\n\\t\\t\\tif letter.isupper():\\n\\t\\t\\t\\ttranslation = translation + \"P\"\\n\\t\\t\\telse:\\n\\t\\t\\t\\ttranslation = translation + \"p\"\\n\\t\\telse:\\n\\t\\t\\ttranslation = translate + letter\\n'"
      ]
     },
     "execution_count": 3,
     "metadata": {},
     "output_type": "execute_result"
    }
   ],
   "source": [
    "# Panda language\n",
    "# vowels --> p\n",
    "\n",
    "def translate(sentence):\n",
    "\ttranslation = \"\"\n",
    "\tfor letter in sentence:\n",
    "\t\tif letter in \"AEIOUaeiou\":\n",
    "\t\t\ttranslation = translation + \"p\"\n",
    "\t\telse:\n",
    "\t\t\ttranslation = translation + letter\n",
    "\treturn translation\n",
    "\n",
    "print(translate(input(\"Enter a sentence: \")))\n",
    "\n",
    "'''\n",
    "for letter in sentence:\n",
    "\t\tif letter.lower in \"aeiou\":\n",
    "\t\t\tif letter.isupper():\n",
    "\t\t\t\ttranslation = translation + \"P\"\n",
    "\t\t\telse:\n",
    "\t\t\t\ttranslation = translation + \"p\"\n",
    "\t\telse:\n",
    "\t\t\ttranslation = translate + letter\n",
    "'''"
   ]
  },
  {
   "cell_type": "markdown",
   "id": "2ea4d7d2",
   "metadata": {},
   "source": [
    "# Comments"
   ]
  },
  {
   "cell_type": "code",
   "execution_count": 4,
   "id": "61b3da4a",
   "metadata": {},
   "outputs": [
    {
     "name": "stdout",
     "output_type": "stream",
     "text": [
      "Comments are fun\n"
     ]
    },
    {
     "data": {
      "text/plain": [
       "' \\nMulti Line Comment\\n'"
      ]
     },
     "execution_count": 4,
     "metadata": {},
     "output_type": "execute_result"
    }
   ],
   "source": [
    "# This is a comment (recommended)\n",
    "print(\"Comments are fun\")\n",
    "\n",
    "# This is a multi-line comment\n",
    "''' \n",
    "Multi Line Comment\n",
    "'''"
   ]
  },
  {
   "cell_type": "markdown",
   "id": "8be3db59",
   "metadata": {},
   "source": [
    "# Try / Except"
   ]
  },
  {
   "cell_type": "code",
   "execution_count": 6,
   "id": "49a4bb0e",
   "metadata": {},
   "outputs": [
    {
     "name": "stdout",
     "output_type": "stream",
     "text": [
      "Enter a number21\n",
      "21\n",
      "Enter a number32\n",
      "32\n",
      "Enter a numbergfh\n",
      "Invalid input\n",
      "invalid literal for int() with base 10: 'gfh'\n"
     ]
    }
   ],
   "source": [
    "number = int(input(\"Enter a number\"))\n",
    "print(number)\n",
    "\n",
    "try: \n",
    "\tnumber = int(input(\"Enter a number\"))\n",
    "\tprint(number)\n",
    "except:\n",
    "\tprint(\"Invalid input\")\n",
    "\n",
    "# We can expect specific types of errors\n",
    "\n",
    "try: \n",
    "\tnumber = int(input(\"Enter a number\"))\n",
    "\tprint(number)\n",
    "except ZeroDivisionError:\n",
    "\tprint(\"Divide by 0\")\n",
    "except ValueError as err:\n",
    "\tprint(\"Invalid input\")\n",
    "\tprint(err) "
   ]
  },
  {
   "cell_type": "markdown",
   "id": "aac30694",
   "metadata": {},
   "source": [
    "# Reading Files"
   ]
  },
  {
   "cell_type": "code",
   "execution_count": 12,
   "id": "dd4f5556",
   "metadata": {},
   "outputs": [],
   "source": [
    "# A sample file called coders.txt\n",
    "coders_file = open(\"coders.txt\", \"r\") # Opening a file\n",
    "\n",
    "# r = read\n",
    "# w = write\n",
    "# a = append\n",
    "# r+ = read and write\n",
    "\n",
    "#print(coders_file.readable()) # To check if a file is readable\n",
    "#print(coders_file.read()) # To read a file\n",
    "#print(coders_file.readline()) # Reading individual lines of the code\n",
    "#print(coders_file.readlines()) # Reads lines and puts it in an array\n",
    "\n",
    "#print(coders_file.readline()[1]) # Prints the first index of the lines\n",
    "\n",
    "for coder in coders_file.readlines(): \n",
    "\tprint(employee)\n",
    "\n",
    "coders_file.close() # Closing the file"
   ]
  },
  {
   "cell_type": "markdown",
   "id": "6c1a703b",
   "metadata": {},
   "source": [
    "# Writing to Files"
   ]
  },
  {
   "cell_type": "code",
   "execution_count": 14,
   "id": "667f6334",
   "metadata": {},
   "outputs": [],
   "source": [
    "coders_file = open(\"coders.txt\", \"a\") # To append to a file\n",
    "coders_file.write(\"Megha - JavaScript\")\n",
    "coders_file.write(\"\\nAngel - C\")\n",
    "coders_file.close()\n",
    "\n",
    "coders_file = open(\"coders.txt\", \"w\") # To overwrite a file\n",
    "coders_file.write(\"\\nMegha - JavaScript\")\n",
    "coders_file.close()\n",
    "\n",
    "people_file = open(\"people.txt\", \"w\") # To create a file\n",
    "people_file.write(\"\\nDiksha - Bangalore\")\n",
    "people_file.close()\n",
    "\n",
    "webpage = open(\"index.html\", \"w\") # Creating an HTML page\n",
    "webpage.write(\"<p>This is HTML<p>\")\n",
    "webpage.close()"
   ]
  },
  {
   "cell_type": "markdown",
   "id": "72f9d2e7",
   "metadata": {},
   "source": [
    "# Modules and Pip"
   ]
  },
  {
   "cell_type": "code",
   "execution_count": 15,
   "id": "fe3f1f87",
   "metadata": {},
   "outputs": [],
   "source": [
    "# File named useful_tools.py\n",
    "\n",
    "import random\n",
    "\n",
    "feet_in_mile = 5280\n",
    "metres_in_kiometer = 1000\n",
    "one_direction = [\"Niall\", \"Liam\", \"Harry\", \"Louis\", \"Zayn\"]\n",
    "\n",
    "def get_file_ext(filename):\n",
    "\treturn filename[filename.index(\".\") + 1:]\n",
    "\n",
    "def roll_dice(num):\n",
    "\treturn random.randint(1, num)"
   ]
  },
  {
   "cell_type": "code",
   "execution_count": 17,
   "id": "7166a702",
   "metadata": {},
   "outputs": [],
   "source": [
    "#import userful_tools\n",
    "\n",
    "#print(userful_tools.roll_dice(10))"
   ]
  },
  {
   "cell_type": "markdown",
   "id": "f7e6f5b3",
   "metadata": {},
   "source": [
    "# Classes and Objects"
   ]
  },
  {
   "cell_type": "code",
   "execution_count": 18,
   "id": "203daa5b",
   "metadata": {},
   "outputs": [],
   "source": [
    "# File called Student.py\n",
    "\n",
    "class Student:\n",
    "\t\n",
    "\tdef __init__(self, name, major, gpa, isSuspended):\n",
    "\t\tself.name = name\n",
    "\t\tself.major = major\n",
    "\t\tself.gpa = gpa\n",
    "\t\tself.isSuspended = isSuspended"
   ]
  },
  {
   "cell_type": "code",
   "execution_count": 22,
   "id": "c4b05c9e",
   "metadata": {},
   "outputs": [
    {
     "name": "stdout",
     "output_type": "stream",
     "text": [
      "Nancy\n",
      "Business\n",
      "8.7\n",
      "False\n"
     ]
    }
   ],
   "source": [
    "# from Student import Student\n",
    "\n",
    "student1 = Student(\"Nancy\", \"Business\", \"8.7\", False) # Creating an object of the Student type\n",
    "student2 = Student(\"Mohit\", \"Finance\", \"6.8\", True)\n",
    "print(student1.name)\n",
    "print(student1.major)\n",
    "print(student1.gpa)\n",
    "print(student1.isSuspended)"
   ]
  },
  {
   "cell_type": "code",
   "execution_count": 23,
   "id": "c8c787ef",
   "metadata": {},
   "outputs": [
    {
     "name": "stdout",
     "output_type": "stream",
     "text": [
      "Mohit\n",
      "Finance\n",
      "6.8\n",
      "True\n"
     ]
    }
   ],
   "source": [
    "print(student2.name)\n",
    "print(student2.major)\n",
    "print(student2.gpa)\n",
    "print(student2.isSuspended)"
   ]
  },
  {
   "cell_type": "markdown",
   "id": "788d7ce7",
   "metadata": {},
   "source": [
    "# Activity 6 : Building a Multiple Choice Quiz"
   ]
  },
  {
   "cell_type": "code",
   "execution_count": 24,
   "id": "7679e1de",
   "metadata": {},
   "outputs": [],
   "source": [
    "question_prompts = [\n",
    "\t\"What colour are apples?\\n(a) Red/Green\\n(b) Purple\\n(c) Orange\\n\\n\",\n",
    "\t\"What colour are bananas?\\n(a) Blue\\n(b) Purple\\n(c) Yellow\\n\\n\",\n",
    "\t\"What colour are strawberries?\\n(a) Yellow\\n(b) Red\\n(c) Green\\n\\n\",\n",
    "]"
   ]
  },
  {
   "cell_type": "code",
   "execution_count": 25,
   "id": "782b39e9",
   "metadata": {},
   "outputs": [],
   "source": [
    "# File called question.py\n",
    "\n",
    "class Question:\n",
    "\tdef __init__(self, prompt, answer):\n",
    "\t\tself.prompt = prompt\n",
    "\t\tself.answer = answer"
   ]
  },
  {
   "cell_type": "code",
   "execution_count": 28,
   "id": "0d8e3e05",
   "metadata": {},
   "outputs": [],
   "source": [
    "# from Question import Question\n",
    "\n",
    "question_prompts = [\n",
    "\t\"What colour are apples?\\n(a) Red/Green\\n(b) Purple\\n(c) Orange\\n\\n\",\n",
    "\t\"What colour are bananas?\\n(a) Blue\\n(b) Purple\\n(c) Yellow\\n\\n\",\n",
    "\t\"What colour are strawberries?\\n(a) Yellow\\n(b) Red\\n(c) Green\\n\\n\",\n",
    "]\n",
    "\n",
    "questions = [\n",
    "\tQuestion(question_prompts[0], \"a\"),\n",
    "\tQuestion(question_prompts[1], \"c\"),\n",
    "\tQuestion(question_prompts[2], \"b\"),\n",
    "\t]\n",
    "\n",
    "def test(questions):\n",
    "\tscore = 0\n",
    "\tfor question in questions:\n",
    "\t\tanswer = input(question.prompt)\n",
    "\t\tif answer == question.answer:\n",
    "\t\t\tscore += 1\n",
    "\t\n",
    "\tprint(\"You got \" + str(score) + \" out of \" + str(len(questions)) + \" correct.\")"
   ]
  },
  {
   "cell_type": "markdown",
   "id": "cfab6d95",
   "metadata": {},
   "source": [
    "# Object Functions"
   ]
  },
  {
   "cell_type": "code",
   "execution_count": 35,
   "id": "51b33fb6",
   "metadata": {},
   "outputs": [],
   "source": [
    "# File called Student.py\n",
    "\n",
    "class Student:\n",
    "\t\n",
    "\tdef __init__(self, name, major, gpa, isSuspended):\n",
    "\t\tself.name = name\n",
    "\t\tself.major = major\n",
    "\t\tself.gpa = gpa\n",
    "\t\tself.isSuspended = isSuspended\n",
    "\n",
    "\tdef is_excellent(self):\n",
    "\t\tif float(self.gpa) >= 8.5:\n",
    "\t\t\treturn True\n",
    "\t\telse:\n",
    "\t\t\treturn False"
   ]
  },
  {
   "cell_type": "code",
   "execution_count": 37,
   "id": "bc013aa8",
   "metadata": {},
   "outputs": [
    {
     "name": "stdout",
     "output_type": "stream",
     "text": [
      "True\n",
      "False\n"
     ]
    }
   ],
   "source": [
    "#from Student import Student\n",
    "\n",
    "student1 = Student(\"Nancy\", \"Business\", \"8.7\", False)\n",
    "student2 = Student(\"Mohit\", \"Finance\", \"6.8\", True)\n",
    "print(student1.is_excellent())\n",
    "print(student2.is_excellent())"
   ]
  },
  {
   "cell_type": "markdown",
   "id": "b023a6c0",
   "metadata": {},
   "source": [
    "# Inheritance"
   ]
  },
  {
   "cell_type": "code",
   "execution_count": 38,
   "id": "1ebe7b44",
   "metadata": {},
   "outputs": [],
   "source": [
    "# File called chef.py\n",
    "\n",
    "class Chef:\n",
    "\t\n",
    "\tdef make_chicken(self):\n",
    "\t\tprint(\"The chef made chicken\")\n",
    "\tdef make_dosa(self):\n",
    "\t\tprint(\"The chef made dosas\")\n",
    "\tdef make_special_dish(self):\n",
    "\t\tprint(\"The chef made steak\")"
   ]
  },
  {
   "cell_type": "code",
   "execution_count": 39,
   "id": "7a1222cd",
   "metadata": {},
   "outputs": [
    {
     "name": "stdout",
     "output_type": "stream",
     "text": [
      "The chef made steak\n"
     ]
    }
   ],
   "source": [
    "# from Chef import Chef\n",
    "\n",
    "myChef = Chef()\n",
    "myChef.make_special_dish()"
   ]
  },
  {
   "cell_type": "code",
   "execution_count": 41,
   "id": "a8b1dd29",
   "metadata": {},
   "outputs": [],
   "source": [
    "# File called ItalianChef.py\n",
    "# from Chef import Chef\n",
    "\n",
    "class ItalianChef(Chef):\n",
    "\t\n",
    "\tdef make_pizza(self):\n",
    "\t\tprint(\"The chef made pizza\")\n",
    "\tdef make_special_dish(self):\n",
    "\t\tprint(\"The chef made risotto\")"
   ]
  },
  {
   "cell_type": "code",
   "execution_count": 42,
   "id": "2a60e36c",
   "metadata": {},
   "outputs": [],
   "source": [
    "#from ChineseChef import ChineseChef\n",
    "\n",
    "#myChineseChef = ChineseChef()\n",
    "#myChineseChef.make_chicken()"
   ]
  },
  {
   "cell_type": "code",
   "execution_count": null,
   "id": "4d420d25",
   "metadata": {},
   "outputs": [],
   "source": []
  }
 ],
 "metadata": {
  "kernelspec": {
   "display_name": "Python 3 (ipykernel)",
   "language": "python",
   "name": "python3"
  },
  "language_info": {
   "codemirror_mode": {
    "name": "ipython",
    "version": 3
   },
   "file_extension": ".py",
   "mimetype": "text/x-python",
   "name": "python",
   "nbconvert_exporter": "python",
   "pygments_lexer": "ipython3",
   "version": "3.9.7"
  }
 },
 "nbformat": 4,
 "nbformat_minor": 5
}
