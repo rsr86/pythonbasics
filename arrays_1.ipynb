{
 "cells": [
  {
   "cell_type": "markdown",
   "id": "07fbde51",
   "metadata": {},
   "source": [
    "# Problem Statement:\n",
    "### Given a matrix if an element in the matrix is 0 then you will have to set its entire column and row to 0 and then return the matrix.\n",
    "### Examples:\n",
    "Examples 1:\n",
    "\n",
    "**Input**: matrix=[[1,1,1],[1,0,1],[1,1,1]]\n",
    "\n",
    "**Output**: [[1,0,1],[0,0,0],[1,0,1]]\n",
    "\n",
    "**Explanation**: Since matrix[2][2]=0.Therfore the 2nd column and 2nd row wil be set to 0.\n",
    " \n",
    "**Input**: matrix=[[0,1,2,0],[3,4,5,2],[1,3,1,5]]\n",
    "\n",
    "**Output**:[[0,0,0,0],[0,4,5,0],[0,3,1,0]]\n",
    "\n",
    "**Explanation**:Since matrix[0][0]=0 and matrix[0][3]=0. Therefore 1st row, 1st column and 4th column will be set to 0"
   ]
  },
  {
   "cell_type": "code",
   "execution_count": 6,
   "id": "f40c87fa",
   "metadata": {},
   "outputs": [
    {
     "name": "stdout",
     "output_type": "stream",
     "text": [
      "1\t1\t1\t\n",
      "1\t0\t1\t\n",
      "1\t1\t1\t\n"
     ]
    }
   ],
   "source": [
    "mat = [[1,1,1],[1,0,1],[1,1,1]]\n",
    "\n",
    "for i in range(len(mat[1])):\n",
    "    for j in range(len(mat)):\n",
    "        if mat[i][j] == 0:\n",
    "            u = i\n",
    "            v = j\n",
    "            for x in range(i):\n",
    "                mat[i][v]=0\n",
    "            for y in range(j):\n",
    "                mat[]\n",
    "                    \n",
    "\n",
    "for i in range(len(mat[1])):\n",
    "    for j in range(len(mat)):\n",
    "        print(mat[i][j], end = \"\\t\")\n",
    "    print()"
   ]
  },
  {
   "cell_type": "code",
   "execution_count": null,
   "id": "59e4d9bf",
   "metadata": {},
   "outputs": [],
   "source": []
  }
 ],
 "metadata": {
  "kernelspec": {
   "display_name": "Python 3 (ipykernel)",
   "language": "python",
   "name": "python3"
  },
  "language_info": {
   "codemirror_mode": {
    "name": "ipython",
    "version": 3
   },
   "file_extension": ".py",
   "mimetype": "text/x-python",
   "name": "python",
   "nbconvert_exporter": "python",
   "pygments_lexer": "ipython3",
   "version": "3.9.7"
  }
 },
 "nbformat": 4,
 "nbformat_minor": 5
}
