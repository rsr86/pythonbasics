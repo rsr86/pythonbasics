{
 "cells": [
  {
   "cell_type": "markdown",
   "id": "e4799767",
   "metadata": {},
   "source": [
    "# Create a Matrix of order m x n"
   ]
  },
  {
   "cell_type": "markdown",
   "id": "84ce15d3",
   "metadata": {},
   "source": [
    "> ## Method 1 : Take user input"
   ]
  },
  {
   "cell_type": "code",
   "execution_count": 4,
   "id": "60e6e68c",
   "metadata": {},
   "outputs": [
    {
     "name": "stdout",
     "output_type": "stream",
     "text": [
      "Enter the no. of rows: 2\n",
      "Enter the no. of columns: 3\n",
      "Enter the entries row-wise: \n",
      "1\n",
      "2\n",
      "3\n",
      "4\n",
      "5\n",
      "6\n",
      "1\t2\t3\t\n",
      "4\t5\t6\t\n"
     ]
    }
   ],
   "source": [
    "m = int(input(\"Enter the no. of rows: \"))\n",
    "n = int(input(\"Enter the no. of columns: \"))\n",
    "\n",
    "matrix = []\n",
    "\n",
    "print(\"Enter the entries row-wise: \")\n",
    "\n",
    "for i in range(m):\n",
    "    a = []\n",
    "    for j in range(n):\n",
    "        a.append(int(input()))\n",
    "    matrix.append(a)\n",
    "    \n",
    "for i in range(m):\n",
    "    for j in range(n):\n",
    "        print(matrix[i][j], end = \"\\t\")\n",
    "    print()"
   ]
  },
  {
   "cell_type": "markdown",
   "id": "1a10b498",
   "metadata": {},
   "source": [
    "> ## Method 2 : generate numbers in serial order"
   ]
  },
  {
   "cell_type": "code",
   "execution_count": 9,
   "id": "47194449",
   "metadata": {},
   "outputs": [
    {
     "name": "stdout",
     "output_type": "stream",
     "text": [
      "Enter the no. of rows: 2\n",
      "Enter the no. of columns: 3\n",
      "1\t2\t3\t\n",
      "4\t5\t6\t\n"
     ]
    }
   ],
   "source": [
    "m = int(input(\"Enter the no. of rows: \"))\n",
    "n = int(input(\"Enter the no. of columns: \"))\n",
    "\n",
    "matrix = []\n",
    "u = 0\n",
    "\n",
    "for i in range(m):\n",
    "    a = []\n",
    "    for j in range(n):\n",
    "        a.append(u+1)\n",
    "        u = u+1\n",
    "    matrix.append(a)\n",
    "    \n",
    "for i in range(m):\n",
    "    for j in range(n):\n",
    "        print(matrix[i][j], end = \"\\t\")\n",
    "    print()"
   ]
  },
  {
   "cell_type": "code",
   "execution_count": null,
   "id": "887d22f6",
   "metadata": {},
   "outputs": [],
   "source": []
  }
 ],
 "metadata": {
  "kernelspec": {
   "display_name": "Python 3 (ipykernel)",
   "language": "python",
   "name": "python3"
  },
  "language_info": {
   "codemirror_mode": {
    "name": "ipython",
    "version": 3
   },
   "file_extension": ".py",
   "mimetype": "text/x-python",
   "name": "python",
   "nbconvert_exporter": "python",
   "pygments_lexer": "ipython3",
   "version": "3.9.7"
  }
 },
 "nbformat": 4,
 "nbformat_minor": 5
}
